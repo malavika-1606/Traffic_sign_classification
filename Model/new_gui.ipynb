{
 "cells": [
  {
   "cell_type": "code",
   "execution_count": 1,
   "id": "c6040ca1-4c1a-4561-aff9-3557612bb9d4",
   "metadata": {
    "tags": []
   },
   "outputs": [],
   "source": [
    "from tkinter import filedialog\n",
    "import customtkinter\n",
    "from PIL import ImageTk, Image\n",
    "import numpy as np\n",
    "import tensorflow as tf\n",
    "from tensorflow import keras\n"
   ]
  },
  {
   "cell_type": "code",
   "execution_count": 2,
   "id": "00be1acf-4f61-4103-8eb0-02682dca2dca",
   "metadata": {
    "tags": []
   },
   "outputs": [],
   "source": [
    "classes = { 0:'Speed limit (20km/h)',\n",
    "            1:'Speed limit (30km/h)',\n",
    "            2:'Speed limit (50km/h)',\n",
    "            3:'Speed limit (60km/h)',\n",
    "            4:'Speed limit (70km/h)',\n",
    "            5:'Speed limit (80km/h)',\n",
    "            6:'End of speed limit (80km/h)',\n",
    "            7:'Speed limit (100km/h)',\n",
    "            8:'Speed limit (120km/h)',\n",
    "            9:'No passing',\n",
    "            10:'No passing veh over 3.5 tons',\n",
    "            11:'Right-of-way at intersection',\n",
    "            12:'Priority road',\n",
    "            13:'Yield',\n",
    "            14:'Stop',\n",
    "            15:'No vehicles',\n",
    "            16:'Veh > 3.5 tons prohibited',\n",
    "            17:'No entry',\n",
    "            18:'General caution',\n",
    "            19:'Dangerous curve left',\n",
    "            20:'Dangerous curve right',\n",
    "            21:'Double curve',\n",
    "            22:'Bumpy road',\n",
    "            23:'Slippery road',\n",
    "            24:'Road narrows on the right',\n",
    "            25:'Road work',\n",
    "            26:'Traffic signals',\n",
    "            27:'Pedestrians',\n",
    "            28:'Children crossing',\n",
    "            29:'Bicycles crossing',\n",
    "            30:'Beware of ice/snow',\n",
    "            31:'Wild animals crossing',\n",
    "            32:'End speed + passing limits',\n",
    "            33:'Turn right ahead',\n",
    "            34:'Turn left ahead',\n",
    "            35:'Ahead only',\n",
    "            36:'Go straight or right',\n",
    "            37:'Go straight or left',\n",
    "            38:'Keep right',\n",
    "            39:'Keep left',\n",
    "            40:'Roundabout mandatory',\n",
    "            41:'End of no passing',\n",
    "            42:'End no passing veh > 3.5 tons' }"
   ]
  },
  {
   "cell_type": "code",
   "execution_count": 3,
   "id": "da2b6c57-6459-498b-9bb5-d47f5f37e5a7",
   "metadata": {
    "tags": []
   },
   "outputs": [],
   "source": [
    "model = tf.keras.models.load_model('trained_model.h5')"
   ]
  },
  {
   "cell_type": "code",
   "execution_count": 5,
   "id": "d1b1f05d-fa08-435c-ac2f-faaedf872e1f",
   "metadata": {
    "tags": []
   },
   "outputs": [
    {
     "name": "stdout",
     "output_type": "stream",
     "text": [
      "C:/Users/prathuish/Desktop/test/00006.png\n",
      "1/1 [==============================] - 0s 16ms/step\n",
      "General caution\n",
      "0.9999615\n"
     ]
    }
   ],
   "source": [
    "customtkinter.set_appearance_mode(\"dark\")\n",
    "customtkinter.set_default_color_theme(\"dark-blue\")\n",
    "\n",
    "root = customtkinter.CTk()\n",
    "root.geometry(\"600x450\")\n",
    "root.title('Traffic Sign Classification')\n",
    "\n",
    "def classify(file_path):\n",
    "    global label_packed\n",
    "    threshold=0.85\n",
    "    image = Image.open(file_path)\n",
    "    image = image.resize((32, 32))\n",
    "    image = image.convert('L')\n",
    "    image = np.array(image)\n",
    "    image = image / 255.0\n",
    "    image = np.expand_dims(image, axis=0)\n",
    "    image = np.array(image)\n",
    "    # Make prediction\n",
    "    pred = model.predict([image])[0]\n",
    "    sign = classes[np.argmax(pred)]\n",
    "    print(sign)\n",
    "    probabilityValue =np.amax(pred)\n",
    "    print(probabilityValue)\n",
    "    if probabilityValue>threshold:\n",
    "        label.configure(text=sign) \n",
    "    else:\n",
    "        label.configure(text=\"Unable to classify the sign\")\n",
    "\n",
    "    \n",
    "\n",
    "def show_classify_button(file_path):\n",
    "    print(file_path)\n",
    "    classify_b = customtkinter.CTkButton(master=frame, text=\"Classify Image\", command=lambda: classify(file_path))\n",
    "    classify_b.pack(padx=10,pady=5)\n",
    "    classify_b.place(relx=0.35,rely=0.75)\n",
    "    \n",
    "  \n",
    "def upload_image():\n",
    "    try:\n",
    "        file_path = filedialog.askopenfilename()\n",
    "        uploaded = Image.open(file_path)\n",
    "        im=customtkinter.CTkImage(uploaded, size=((124,124)))\n",
    "        sign_image.configure(image=im)\n",
    "        sign_image.image=im      \n",
    "        label.configure(text='')       \n",
    "        show_classify_button(file_path)          \n",
    "    except:\n",
    "        pass\n",
    "\n",
    "\n",
    "frame = customtkinter.CTkFrame(master=root)\n",
    "frame.pack(pady=20, padx=60, fill='both', expand=True)\n",
    "\n",
    "heading = customtkinter.CTkLabel(master=frame, text=\"Know Your Traffic Sign\", font=(\"Consolas\", 24,'bold'))\n",
    "heading.pack(pady=12, padx=10)\n",
    "\n",
    "upload = customtkinter.CTkButton(master=frame, text=\"Upload\", command=upload_image)\n",
    "upload.pack(pady=12, padx=10)\n",
    "upload.place(relx=0.35,rely=0.65)\n",
    "\n",
    "sign_image = customtkinter.CTkLabel(frame, text=\" \")\n",
    "sign_image.pack(expand=False)\n",
    "\n",
    "label=customtkinter.CTkLabel(frame,text=\" \",font=(\"Consolas\",20,'bold'))\n",
    "label.pack(expand=True)\n",
    "label.place(relx=0.3,rely=0.55)\n",
    "root.mainloop()\n",
    "\n"
   ]
  },
  {
   "cell_type": "code",
   "execution_count": null,
   "id": "fd9ff4f1-5037-4004-b81f-a4251e780d2c",
   "metadata": {},
   "outputs": [],
   "source": []
  },
  {
   "cell_type": "code",
   "execution_count": null,
   "id": "7c7dbf1c-023d-4045-99b6-ec9f554bf4d7",
   "metadata": {},
   "outputs": [],
   "source": []
  }
 ],
 "metadata": {
  "kernelspec": {
   "display_name": "Python 3 (ipykernel)",
   "language": "python",
   "name": "python3"
  },
  "language_info": {
   "codemirror_mode": {
    "name": "ipython",
    "version": 3
   },
   "file_extension": ".py",
   "mimetype": "text/x-python",
   "name": "python",
   "nbconvert_exporter": "python",
   "pygments_lexer": "ipython3",
   "version": "3.11.3"
  }
 },
 "nbformat": 4,
 "nbformat_minor": 5
}
